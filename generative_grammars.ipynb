{
  "cells": [
    {
      "cell_type": "markdown",
      "metadata": {
        "id": "tKa-VNG3TaCH"
      },
      "source": [
        "<a href=\"https://colab.research.google.com/github/IAT-ComputationalCreativity-Spring2025/Week3-Rule-Based-Systems/blob/main/generative_grammars.ipynb\" target=\"_parent\"><img src=\"https://colab.research.google.com/assets/colab-badge.svg\" alt=\"Open In Colab\"/></a>"
      ]
    },
    {
      "cell_type": "markdown",
      "metadata": {
        "id": "qusIuG-aTaCL"
      },
      "source": [
        "# Generative Grammars Lab Exercise\n",
        "\n",
        "This notebook introduces context-free grammars and their implementation in Python\n",
        "for generating natural language sentences."
      ]
    },
    {
      "cell_type": "markdown",
      "metadata": {
        "id": "ktR9W2u9TaCM"
      },
      "source": [
        "## Introduction to Generative Grammars\n",
        "\n",
        "A context-free grammar consists of:\n",
        "- **Terminal symbols**: Words that appear in the final output (e.g., \"cat\", \"dog\")\n",
        "- **Non-terminal symbols**: Placeholders that get replaced by other symbols (e.g., NP, VP)\n",
        "- **Production rules**: Rules that define how non-terminals can be replaced\n",
        "\n",
        "For example:\n",
        "- S → NP VP (A sentence consists of a noun phrase followed by a verb phrase)\n",
        "- NP → Det N (A noun phrase consists of a determiner followed by a noun)\n",
        "- VP → V (A verb phrase can be just a verb)"
      ]
    },
    {
      "cell_type": "code",
      "execution_count": 38,
      "metadata": {
        "id": "Egxqb0G0TaCN"
      },
      "outputs": [],
      "source": [
        "import random\n",
        "\n",
        "# Define our basic grammar\n",
        "basic_grammar = {\n",
        "    'S': [['NP', 'VP']],\n",
        "    'NP': [['Det', 'N'], ['Det', 'Adj', 'N']],\n",
        "    'VP': [['V', 'NP'], ['V']],\n",
        "    'Det': ['the', 'a', 'my'],\n",
        "    'N': ['cat', 'dog', 'robot', 'programmer'],\n",
        "    'V': ['sleeps', 'jumps', 'codes', 'runs'],\n",
        "    'Adj': ['quick', 'lazy', 'clever', 'brave'],\n",
        "    'con':['does','to','and','if','or']\n",
        "}\n",
        "\n",
        "def generate(symbol, grammar):\n",
        "    \"\"\"\n",
        "    Recursively generate a string from the grammar starting with the given symbol.\n",
        "\n",
        "    Args:\n",
        "        symbol: The symbol to start generating from\n",
        "\n",
        "    Returns:\n",
        "        A string generated from the grammar rules\n",
        "    \"\"\"\n",
        "    if isinstance(symbol, str) and symbol in grammar:\n",
        "        production = random.choice(grammar[symbol])\n",
        "        if isinstance(production, list):\n",
        "            return ' '.join(generate(sym, grammar) for sym in production)\n",
        "        return production\n",
        "    return symbol"
      ]
    },
    {
      "cell_type": "markdown",
      "metadata": {
        "id": "U1D5sy3sTaCP"
      },
      "source": [
        "## Basic Sentence Generation\n",
        "\n",
        "Let's generate some basic sentences using our grammar:"
      ]
    },
    {
      "cell_type": "code",
      "execution_count": 39,
      "metadata": {
        "colab": {
          "base_uri": "https://localhost:8080/"
        },
        "id": "Cdw7zih0TaCP",
        "outputId": "cbbfe343-9c3f-4680-a3c0-7eb68a35acd4"
      },
      "outputs": [
        {
          "output_type": "stream",
          "name": "stdout",
          "text": [
            "Generated sentences:\n",
            "\n",
            "1. a clever programmer sleeps\n",
            "2. a quick programmer jumps\n",
            "3. a dog jumps\n",
            "4. my quick robot codes\n",
            "5. my programmer codes the clever dog\n"
          ]
        }
      ],
      "source": [
        "print(\"Generated sentences:\\n\")\n",
        "for i in range(5):\n",
        "    print(f\"{i+1}. {generate('S', basic_grammar)}\")"
      ]
    },
    {
      "cell_type": "markdown",
      "metadata": {
        "id": "dpLNwt5ETaCP"
      },
      "source": [
        "## Exercise 1: Expanding the Grammar\n",
        "\n",
        "Now it's your turn! Modify the grammar to include:\n",
        "- More nouns\n",
        "- More adjectives\n",
        "- More verbs\n",
        "\n",
        "Try adding these categories:\n"
      ]
    },
    {
      "cell_type": "code",
      "execution_count": 40,
      "metadata": {
        "id": "X6JFOArBTaCQ"
      },
      "outputs": [],
      "source": [
        "# Create an expanded grammar\n",
        "expanded_grammar = basic_grammar.copy()  # Start with our original grammar\n",
        "\n",
        "# Add more words to existing categories\n",
        "# i.e. expanded_grammar['N'].extend(['apple', 'orange'])\n",
        "expanded_grammar['N'].extend([])\n",
        "expanded_grammar['V'].extend([])\n",
        "expanded_grammar['Adj'].extend([])\n",
        "expanded_grammar['Det'].extend([])"
      ]
    },
    {
      "cell_type": "code",
      "execution_count": 41,
      "metadata": {
        "colab": {
          "base_uri": "https://localhost:8080/"
        },
        "id": "Kn5WVINBTaCQ",
        "outputId": "59e82113-bf5a-47b2-c854-02df7b85459a"
      },
      "outputs": [
        {
          "output_type": "stream",
          "name": "stdout",
          "text": [
            "Generated sentences with expanded vocabulary:\n",
            "\n",
            "1. the dog sleeps\n",
            "2. the cat sleeps\n",
            "3. my lazy cat sleeps\n",
            "4. a dog sleeps the robot\n",
            "5. a dog runs a cat\n"
          ]
        }
      ],
      "source": [
        "# Try the expanded grammar\n",
        "print(\"Generated sentences with expanded vocabulary:\\n\")\n",
        "for i in range(5):\n",
        "    print(f\"{i+1}. {generate('S', expanded_grammar)}\")"
      ]
    },
    {
      "cell_type": "markdown",
      "metadata": {
        "id": "mu_YhjQrTaCR"
      },
      "source": [
        "## Exercise 2: Adding Questions\n",
        "\n",
        "Let's modify the grammar to generate questions. We'll need:\n",
        "- Question words (who, what, where, etc.)\n",
        "- New production rules for question structure\n",
        "- Appropriate verb forms"
      ]
    },
    {
      "cell_type": "code",
      "execution_count": 54,
      "metadata": {
        "id": "XnB8_dxtTaCR"
      },
      "outputs": [],
      "source": [
        "# Create a grammar with questions\n",
        "question_grammar = expanded_grammar.copy()\n",
        "\n",
        "# Question-related rules\n",
        "question_grammar['S'].append(['Q'])  # Add question as possible sentence type\n",
        "# Create some question structures and words here\n",
        "question_grammar['Q'] = [['QW','Adj', 'N','V']]  # Question structures\n",
        "question_grammar['QW'] = ['who', 'what', 'when','where','why','how','which']  # Question words"
      ]
    },
    {
      "cell_type": "code",
      "execution_count": 55,
      "metadata": {
        "colab": {
          "base_uri": "https://localhost:8080/"
        },
        "id": "VfvRTjS9TaCS",
        "outputId": "1bb05476-53e0-489f-a49b-275968fd715f"
      },
      "outputs": [
        {
          "output_type": "stream",
          "name": "stdout",
          "text": [
            "Generated questions:\n",
            "\n",
            "1. why or clever dog jumps?\n",
            "2. how or clever robot jumps?\n",
            "3. where to clever dog runs?\n",
            "4. why and clever dog runs?\n",
            "5. where and quick robot runs?\n"
          ]
        }
      ],
      "source": [
        "print(\"Generated questions:\\n\")\n",
        "for i in range(5):\n",
        "    print(f\"{i+1}. {generate('Q', question_grammar)}?\")"
      ]
    },
    {
      "cell_type": "markdown",
      "metadata": {
        "id": "2u2X80PjTaCS"
      },
      "source": [
        "## Challenge: Poetry Generation\n",
        "\n",
        "Create a grammar that generates simple poetry. Consider:\n",
        "- Line structures\n",
        "- Rhyming words\n",
        "- Poetic phrases"
      ]
    },
    {
      "cell_type": "code",
      "execution_count": 70,
      "metadata": {
        "id": "Pl461qFZTaCS"
      },
      "outputs": [],
      "source": [
        "# Define a poetry-specific grammar\n",
        "poetry_grammar = {\n",
        "    'POEM': ['LINE','LINE','LINE','LINE'],  # Four-line poem\n",
        "    'LINE': ['PHRASE','PHRASE'],  # Two phrases per line\n",
        "    'PHRASE': [['ADJ','N','V','ADV'],['ADJ','N','ADV','V']],  # Phrase structure\n",
        "    'ADJ': ['silent', 'gentle', 'misty', 'golden', 'dreamy', 'soft'],\n",
        "    'N': ['moon', 'wind', 'river', 'mountain', 'dream', 'sky'],\n",
        "    'V': ['whispers', 'dances', 'flows', 'glides', 'sings', 'sleeps'],\n",
        "    'ADV': ['slowly', 'sweetly', 'gently', 'quietly', 'peacefully']\n",
        "}\n",
        "\n",
        "def generate_poem(symbol='POEM'):\n",
        "    \"\"\"\n",
        "    Generate a poem using our poetry grammar\n",
        "    \"\"\"\n",
        "    if isinstance(symbol, str) and symbol in poetry_grammar:\n",
        "        production = random.choice(poetry_grammar[symbol])\n",
        "        if isinstance(production, list):\n",
        "            result = [generate_poem(sym) for sym in production]\n",
        "            if symbol == 'LINE':\n",
        "                return ' '.join(result) + '\\n'\n",
        "            return ' '.join(result)\n",
        "        return production\n",
        "\n",
        "    return symbol + ' '"
      ]
    },
    {
      "cell_type": "code",
      "execution_count": 71,
      "metadata": {
        "colab": {
          "base_uri": "https://localhost:8080/"
        },
        "id": "MlsEF0vITaCS",
        "outputId": "ded45bdd-641e-4f41-a04f-d235375bbe69"
      },
      "outputs": [
        {
          "output_type": "stream",
          "name": "stdout",
          "text": [
            "Generated poem:\n",
            "\n",
            "LINE\n"
          ]
        }
      ],
      "source": [
        "print(\"Generated poem:\\n\")\n",
        "print(generate_poem())"
      ]
    },
    {
      "cell_type": "markdown",
      "metadata": {
        "id": "_efeR32uTaCT"
      },
      "source": [
        "## Exercises for Practice\n",
        "\n",
        "1. Try adding different types of sentence structures to the basic grammar\n",
        "2. Create themed vocabularies (e.g., science fiction, fantasy, nature)\n",
        "3. Modify the poetry generator to create different verse structures\n",
        "4. Add rhyming capabilities to the poetry generator\n",
        "5. Implement a grammar for generating specific types of text (e.g., news headlines, weather reports)\n",
        "\n",
        "Remember: The beauty of generative grammars lies in their ability to create infinite variations from a finite set of rules!"
      ]
    }
  ],
  "metadata": {
    "kernelspec": {
      "display_name": "iat460",
      "language": "python",
      "name": "python3"
    },
    "language_info": {
      "codemirror_mode": {
        "name": "ipython",
        "version": 3
      },
      "file_extension": ".py",
      "mimetype": "text/x-python",
      "name": "python",
      "nbconvert_exporter": "python",
      "pygments_lexer": "ipython3",
      "version": "3.9.21"
    },
    "colab": {
      "provenance": []
    }
  },
  "nbformat": 4,
  "nbformat_minor": 0
}